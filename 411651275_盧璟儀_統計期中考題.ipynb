{
  "nbformat": 4,
  "nbformat_minor": 0,
  "metadata": {
    "colab": {
      "provenance": [],
      "include_colab_link": true
    },
    "kernelspec": {
      "name": "python3",
      "display_name": "Python 3"
    },
    "language_info": {
      "name": "python"
    }
  },
  "cells": [
    {
      "cell_type": "markdown",
      "metadata": {
        "id": "view-in-github",
        "colab_type": "text"
      },
      "source": [
        "<a href=\"https://colab.research.google.com/github/1eey/Introduction-to-Computers/blob/main/411651275_%E7%9B%A7%E7%92%9F%E5%84%80_%E7%B5%B1%E8%A8%88%E6%9C%9F%E4%B8%AD%E8%80%83%E9%A1%8C.ipynb\" target=\"_parent\"><img src=\"https://colab.research.google.com/assets/colab-badge.svg\" alt=\"Open In Colab\"/></a>"
      ]
    },
    {
      "cell_type": "code",
      "source": [
        "#第一題(print文字)\n",
        "a=input()\n",
        "print(a)"
      ],
      "metadata": {
        "colab": {
          "base_uri": "https://localhost:8080/"
        },
        "id": "8A9EXIqo2ZsP",
        "outputId": "a0d859df-3c80-45a3-fa68-f9a117d24793"
      },
      "execution_count": 5,
      "outputs": [
        {
          "output_type": "stream",
          "name": "stdout",
          "text": [
            "panda\n",
            "panda\n"
          ]
        }
      ]
    },
    {
      "cell_type": "code",
      "source": [
        "#第二題(取得字串長度)\n",
        "b=input()\n",
        "print(len(b))"
      ],
      "metadata": {
        "colab": {
          "base_uri": "https://localhost:8080/"
        },
        "id": "SyNJPaNF2bpT",
        "outputId": "f4330913-d7f6-4364-8389-071a9d0d8521"
      },
      "execution_count": 6,
      "outputs": [
        {
          "output_type": "stream",
          "name": "stdout",
          "text": [
            "hello panda hi hi\n",
            "17\n"
          ]
        }
      ]
    },
    {
      "cell_type": "code",
      "source": [
        "#第三題(BMI計算)\n",
        "h,w=input().split()\n",
        "new_h=int(h)\n",
        "new_w=int(w)\n",
        "m_h=new_h/100\n",
        "bmi=new_w/m_h ** 2\n",
        "print(\"%.2f\" % bmi)"
      ],
      "metadata": {
        "colab": {
          "base_uri": "https://localhost:8080/"
        },
        "id": "u2QpcrI92wAI",
        "outputId": "37bf9da6-804b-420e-fdef-86449d6fa418"
      },
      "execution_count": 9,
      "outputs": [
        {
          "output_type": "stream",
          "name": "stdout",
          "text": [
            "180 70\n",
            "21.60\n"
          ]
        }
      ]
    },
    {
      "cell_type": "code",
      "source": [
        "#第四題(給定一個正整數N,請輸出從10到N的所有正整數的和)\n",
        "c=int(input())\n",
        "sum = 0\n",
        "i = 10\n",
        "while i <= c:\n",
        "    sum = sum + i\n",
        "    i = i + 1\n",
        "print(sum, end= \" \")"
      ],
      "metadata": {
        "colab": {
          "base_uri": "https://localhost:8080/"
        },
        "id": "c_Q7SINp3SUt",
        "outputId": "b1f14d82-e2eb-45fc-9bd9-f81ee7a8d955"
      },
      "execution_count": 10,
      "outputs": [
        {
          "output_type": "stream",
          "name": "stdout",
          "text": [
            "20\n",
            "165 "
          ]
        }
      ]
    }
  ]
}